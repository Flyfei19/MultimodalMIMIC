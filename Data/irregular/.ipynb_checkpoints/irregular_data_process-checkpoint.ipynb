{
 "cells": [
  {
   "cell_type": "code",
   "execution_count": 1,
   "id": "bd8b8fdc-8691-4578-8e88-0b29ca6a43ba",
   "metadata": {},
   "outputs": [],
   "source": [
    "import pickle\n",
    "import json\n",
    "import numpy as np\n",
    "\n",
    "import torch\n",
    "import torch.nn as nn\n",
    "import torch.nn.functional as F\n",
    "\n",
    "from transformers import (AutoTokenizer,\n",
    "                          AutoModel,\n",
    "                          AutoConfig,\n",
    "                          AutoModelForMaskedLM,\n",
    "                          AdamW,\n",
    "                          BertTokenizer,\n",
    "                          BertModel,\n",
    "                          get_scheduler,\n",
    "                          set_seed,\n",
    "                          BertPreTrainedModel,\n",
    "                          LongformerConfig,\n",
    "                          LongformerModel,\n",
    "                          LongformerTokenizer,\n",
    "\n",
    "                         )"
   ]
  },
  {
   "cell_type": "code",
   "execution_count": 2,
   "id": "dfff5e6c-705f-4d57-902f-1b356d0d480d",
   "metadata": {},
   "outputs": [],
   "source": [
    "dataPath1='../pheno_24/trainp2x_data.pkl'\n",
    "dataPath2='../pheno_24/testp2x_data.pkl'\n",
    "dataPath3='../pheno_24/valp2x_data.pkl'\n",
    "with open(dataPath1, 'rb') as f:\n",
    "    data1 = pickle.load(f)\n",
    "with open(dataPath2, 'rb') as f:\n",
    "    data2 = pickle.load(f)\n",
    "with open(dataPath3, 'rb') as f:\n",
    "    data3 = pickle.load(f)"
   ]
  },
  {
   "cell_type": "code",
   "execution_count": 3,
   "id": "44b41d25-e7e8-45c4-ab4f-aad28e1b3364",
   "metadata": {},
   "outputs": [],
   "source": [
    "count0=0\n",
    "count1=0\n",
    "for i in range(len(data1)):\n",
    "    label=data1[i]['label']\n",
    "    if label==1:\n",
    "        count1+=1\n",
    "    else:\n",
    "        count0+=1\n"
   ]
  },
  {
   "cell_type": "code",
   "execution_count": 10,
   "id": "29bb7729-48a4-4ad3-bce5-ecc1975ed8cd",
   "metadata": {},
   "outputs": [
    {
     "name": "stderr",
     "output_type": "stream",
     "text": [
      "Token indices sequence length is longer than the specified maximum sequence length for this model (5596 > 4096). Running this sequence through the model will result in indexing errors\n"
     ]
    }
   ],
   "source": [
    "\n",
    "tokenizer = AutoTokenizer.from_pretrained(\"yikuan8/Clinical-Longformer\")\n",
    "text_len=[]\n",
    "no_note=[]\n",
    "for val in data1:\n",
    "    for t in val['text_data']:\n",
    "        inputs = tokenizer.encode_plus(t,\\\n",
    "                                            add_special_tokens=True)\n",
    "        # import pdb;\n",
    "        # pdb.set_trace()\n",
    "        text_len.append(len(inputs['input_ids']))\n",
    "    no_note.append(len(val['text_data']))"
   ]
  },
  {
   "cell_type": "code",
   "execution_count": 34,
   "id": "59ee4eba-39ba-41df-930d-d075f5741e56",
   "metadata": {},
   "outputs": [
    {
     "data": {
      "text/plain": [
       "10.293705860488167"
      ]
     },
     "execution_count": 34,
     "metadata": {},
     "output_type": "execute_result"
    }
   ],
   "source": [
    "sum(no_note)/16142"
   ]
  },
  {
   "cell_type": "code",
   "execution_count": 35,
   "id": "a232dea1-d64d-4e46-9126-1d5432ac91c1",
   "metadata": {},
   "outputs": [
    {
     "data": {
      "text/plain": [
       "0.07697353771342252"
      ]
     },
     "execution_count": 35,
     "metadata": {},
     "output_type": "execute_result"
    }
   ],
   "source": [
    "count = len([i for i in no_note  if i > 5])\n",
    "count/len(text_len)"
   ]
  },
  {
   "cell_type": "code",
   "execution_count": 21,
   "id": "eec2873b-2bc4-477a-a5f4-86a8e6ed1a85",
   "metadata": {},
   "outputs": [
    {
     "data": {
      "text/plain": [
       "(0.0, 4450.0)"
      ]
     },
     "execution_count": 21,
     "metadata": {},
     "output_type": "execute_result"
    },
    {
     "data": {
      "image/png": "[encoded data removed]",
      "text/plain": [
       "<Figure size 432x288 with 1 Axes>"
      ]
     },
     "metadata": {
      "needs_background": "light"
     },
     "output_type": "display_data"
    }
   ],
   "source": [
    "import matplotlib.pyplot as plt\n",
    "\n",
    "# An \"interface\" to matplotlib.axes.Axes.hist() method\n",
    "n, bins, patches = plt.hist(x=text_len, bins='auto', color='#0504aa',\n",
    "                            alpha=0.7, rwidth=0.85)\n",
    "plt.grid(axis='y', alpha=0.75)\n",
    "plt.xlabel('Number of Token')\n",
    "plt.ylabel('Frequency')\n",
    "plt.title('')\n",
    "maxfreq = n.max()\n",
    "# Set a clean upper y-axis limit.\n",
    "plt.ylim(ymax=np.ceil(maxfreq / 10) * 10 if maxfreq % 10 else maxfreq + 10)"
   ]
  },
  {
   "cell_type": "code",
   "execution_count": 20,
   "id": "cf4577ff-9a0b-4cde-b149-65b16338b3bb",
   "metadata": {},
   "outputs": [
    {
     "data": {
      "text/plain": [
       "9.0"
      ]
     },
     "execution_count": 20,
     "metadata": {},
     "output_type": "execute_result"
    }
   ],
   "source": [
    "np.quantile(np.array(no_note),0.5)"
   ]
  },
  {
   "cell_type": "code",
   "execution_count": 44,
   "id": "134cd8c3-80dc-4c1f-a55a-31afdbe5cb43",
   "metadata": {},
   "outputs": [],
   "source": [
    "\n",
    "# Opening JSON file\n",
    "channel_info_file = open('channel_info.json')\n",
    "dis_config_file=open('discretizer_config.json')\n",
    "channel_info = json.load(channel_info_file)\n",
    "dis_config=json.load(dis_config_file)\n",
    "channel_name=dis_config['id_to_channel']\n",
    "is_catg=dis_config['is_categorical_channel']\n",
    "\n",
    "\n",
    "\n",
    "# import pdb;\n",
    "# pdb.set_trace()\n",
    "for x in X:\n",
    "    tt=[]\n",
    "    features_list=[]\n",
    "    features_mask_list=[]\n",
    "    for t_idx, feature in enumerate(x):\n",
    "        f_list_per_t=[]\n",
    "        f_mask_per_t=[]\n",
    "        for f_idx, val in enumerate(feature):\n",
    "            if f_idx==0:\n",
    "                tt.append(round(float(val),2))\n",
    "            else:\n",
    "                head=channel_name[f_idx-1]\n",
    "                if val=='':\n",
    "                    f_list_per_t.append(0)\n",
    "                    f_mask_per_t.append(0)\n",
    "                else:\n",
    "                    f_mask_per_t.append(1)\n",
    "                    if is_catg[head]:\n",
    "                        val=channel_info[head]['values'][val]\n",
    "                    f_list_per_t.append(float(round(float(val),2)))\n",
    "        features_list.append(f_list_per_t)\n",
    "        features_mask_list.append(f_mask_per_t)\n",
    "                            \n",
    "                    \n",
    "                \n",
    "\n",
    "            \n",
    "        "
   ]
  },
  {
   "cell_type": "code",
   "execution_count": 17,
   "id": "8ad9d84f-16b2-4b59-a77a-9aad79efbf77",
   "metadata": {},
   "outputs": [],
   "source": [
    "\n",
    " \n",
    "# returns JSON object as\n",
    "# a dictionary\n",
    "\n",
    " \n",
    "# # Iterating through the json\n",
    "# # list\n",
    "# for i in data['emp_details']:\n",
    "#     print(i)\n",
    " \n",
    "# # Closing file\n",
    "# f.close()"
   ]
  },
  {
   "cell_type": "code",
   "execution_count": 32,
   "id": "b4d2dbb7-afdd-49b2-9dcc-ae4cbd13964c",
   "metadata": {},
   "outputs": [
    {
     "name": "stdout",
     "output_type": "stream",
     "text": [
      "{'None': 0, '1 No Response': 1, '2 To pain': 2, 'To Pain': 2, '3 To speech': 3, 'To Speech': 3, '4 Spontaneously': 4, 'Spontaneously': 4}\n",
      "1\n"
     ]
    }
   ],
   "source": [
    "\n",
    "    print(channel_info[head]['values'])\n",
    "    val=channel_info[head]['values']['1 No Response']\n",
    "    print(val)"
   ]
  },
  {
   "cell_type": "code",
   "execution_count": 33,
   "id": "7c6c63a7-f60c-4f77-b810-9cdfe01ecfbc",
   "metadata": {},
   "outputs": [
    {
     "data": {
      "text/plain": [
       "{'Capillary refill rate': True,\n",
       " 'Diastolic blood pressure': False,\n",
       " 'Fraction inspired oxygen': False,\n",
       " 'Glascow coma scale eye opening': True,\n",
       " 'Glascow coma scale motor response': True,\n",
       " 'Glascow coma scale total': True,\n",
       " 'Glascow coma scale verbal response': True,\n",
       " 'Glucose': False,\n",
       " 'Heart Rate': False,\n",
       " 'Height': False,\n",
       " 'Mean blood pressure': False,\n",
       " 'Oxygen saturation': False,\n",
       " 'Respiratory rate': False,\n",
       " 'Systolic blood pressure': False,\n",
       " 'Temperature': False,\n",
       " 'Weight': False,\n",
       " 'pH': False}"
      ]
     },
     "execution_count": 33,
     "metadata": {},
     "output_type": "execute_result"
    }
   ],
   "source": [
    "dis_config['is_categorical_channel']"
   ]
  },
  {
   "cell_type": "code",
   "execution_count": null,
   "id": "24db5524-b8d4-4d6d-ae17-2fdc66479459",
   "metadata": {},
   "outputs": [],
   "source": [
    "array([9.97581909e-01, 2.41809141e-03, 6.13446788e+01, 2.91782989e-01,\n",
    "       2.35905819e-02, 9.61617056e-02, 7.64721409e-02, 3.97438299e-01,\n",
    "       4.87705197e-02, 7.66722294e-02, 2.46534637e-01, 3.43598869e-02,\n",
    "       4.07939400e-02, 2.52735963e-03, 2.07609609e-03, 2.77129737e-02,\n",
    "       3.33537679e-02, 4.35256454e-02, 2.41723997e-02, 2.95404491e-01,\n",
    "       2.04061939e-03, 4.53922871e-01, 7.19268669e-02, 2.54296937e-03,\n",
    "       3.75315033e-02, 5.17420475e-02, 1.38543582e-02, 5.76992939e-03,\n",
    "       7.14500602e-01, 4.15545603e-02, 3.61848080e-02, 3.05099562e-03,\n",
    "       3.87121677e-03, 2.45356810e-02, 1.85443771e-02, 2.31563472e-02,\n",
    "       2.57035738e-02, 1.00810571e-02, 1.34314761e-02, 3.71228118e-02,\n",
    "       2.50607361e-03, 2.08155950e-01, 1.26431839e-01, 3.33472402e-01,\n",
    "       7.36921872e-03, 2.05979100e-01, 4.29367323e-02, 9.31192244e-03,\n",
    "       3.20141680e-03, 1.37544028e+02, 8.61442336e+01, 1.69770706e+02,\n",
    "       7.86865227e+01, 9.82986876e+01, 1.92625636e+01, 1.20336360e+02,\n",
    "       3.69188357e+01, 8.18668639e+01, 7.22800334e+00, 3.40860069e-03,\n",
    "       9.04012840e-01, 6.26050110e-02, 3.09781066e-01, 3.08462752e-01,\n",
    "       1.82280669e-01, 3.08698318e-01, 2.59389971e-01, 9.24627637e-01,\n",
    "       3.96771337e-03, 9.00331778e-01, 8.92981007e-01, 9.10188622e-01,\n",
    "       9.04160423e-01, 3.25268771e-01, 3.11031265e-02, 1.30764253e-01])"
   ]
  },
  {
   "cell_type": "code",
   "execution_count": null,
   "id": "39f60508-783e-4b05-9ce1-90f9778b041a",
   "metadata": {},
   "outputs": [],
   "source": [
    "[9.97498075e-01, 2.50192456e-03, 6.11747474e+01, 2.91638191e-01,\n",
    "       2.31682742e-02, 9.60736200e-02, 7.75653217e-02, 3.96644195e-01,\n",
    "       4.95601820e-02, 7.61332247e-02, 2.45887674e-01, 3.49675089e-02,\n",
    "       4.16907236e-02, 3.06231037e-03, 1.81276321e-03, 2.81891047e-02,\n",
    "       3.38637187e-02, 4.33959381e-02, 2.40329099e-02, 2.94659636e-01,\n",
    "       2.02786080e-03, 4.52361545e-01, 7.24256215e-02, 2.47786759e-03,\n",
    "       3.73746207e-02, 5.15937033e-02, 1.42247430e-02, 5.73687905e-03,\n",
    "       7.12386225e-01, 4.13270389e-02, 3.69642372e-02, 3.43448580e-03,\n",
    "       3.99487162e-03, 2.46555608e-02, 1.88790586e-02, 2.35376194e-02,\n",
    "       2.58909568e-02, 9.88033782e-03, 1.33233143e-02, 3.67208373e-02,\n",
    "       2.56985011e-03, 2.08957399e-01, 1.25510857e-01, 3.31938029e-01,\n",
    "       7.15057963e-03, 2.07859270e-01, 4.31468777e-02, 9.50533216e-03,\n",
    "       3.43731603e-03, 1.37495478e+02, 8.62587068e+01, 1.69793005e+02,\n",
    "       7.88177433e+01, 9.82863168e+01, 1.92775957e+01, 1.20316522e+02,\n",
    "       3.69323905e+01, 8.19019827e+01, 7.22785885e+00, 3.34391840e-03,\n",
    "       9.04332518e-01, 6.25721709e-02, 3.10136757e-01, 3.08789567e-01,\n",
    "       1.82442376e-01, 3.09074005e-01, 2.59179856e-01, 9.25080945e-01,\n",
    "       3.94817280e-03, 9.00613594e-01, 8.93579054e-01, 9.11381210e-01,\n",
    "       9.04491011e-01, 3.26240773e-01, 3.10193361e-02, 1.31090658e-01])"
   ]
  }
 ],
 "metadata": {
  "kernelspec": {
   "display_name": "cn",
   "language": "python",
   "name": "cn"
  },
  "language_info": {
   "codemirror_mode": {
    "name": "ipython",
    "version": 3
   },
   "file_extension": ".py",
   "mimetype": "text/x-python",
   "name": "python",
   "nbconvert_exporter": "python",
   "pygments_lexer": "ipython3",
   "version": "3.8.12"
  }
 },
 "nbformat": 4,
 "nbformat_minor": 5
}
